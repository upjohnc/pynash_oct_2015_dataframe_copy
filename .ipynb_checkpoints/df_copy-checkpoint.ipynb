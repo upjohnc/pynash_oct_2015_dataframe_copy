{
 "cells": [
  {
   "cell_type": "code",
   "execution_count": 2,
   "metadata": {
    "collapsed": true
   },
   "outputs": [],
   "source": [
    "import pandas as pd\n",
    "import numpy as np"
   ]
  },
  {
   "cell_type": "markdown",
   "metadata": {},
   "source": [
    "http://pandas.pydata.org/pandas-docs/stable/indexing.html#indexing-view-versus-copy"
   ]
  },
  {
   "cell_type": "markdown",
   "metadata": {},
   "source": [
    "Since the chained indexing is 2 calls, it is possible that either call may return a copy of the data because of the way it is sliced. Thus when setting, you are actually setting a copy, and not the original frame data. It is impossible for pandas to figure this out because their are 2 separate python operations that are not connected.\n",
    "\n",
    "Evaluates dfmi['one'] first, which returns a dataframe and then evaluates ['second']"
   ]
  },
  {
   "cell_type": "code",
   "execution_count": 3,
   "metadata": {
    "collapsed": false
   },
   "outputs": [
    {
     "name": "stderr",
     "output_type": "stream",
     "text": [
      "C:\\Python34\\lib\\site-packages\\IPython\\kernel\\__main__.py:7: SettingWithCopyWarning: \n",
      "A value is trying to be set on a copy of a slice from a DataFrame.\n",
      "Try using .loc[row_indexer,col_indexer] = value instead\n",
      "\n",
      "See the the caveats in the documentation: http://pandas.pydata.org/pandas-docs/stable/indexing.html#indexing-view-versus-copy\n"
     ]
    },
    {
     "data": {
      "text/html": [
       "<div style=\"max-height:1000px;max-width:1500px;overflow:auto;\">\n",
       "<table border=\"1\" class=\"dataframe\">\n",
       "  <thead>\n",
       "    <tr>\n",
       "      <th></th>\n",
       "      <th colspan=\"2\" halign=\"left\">one</th>\n",
       "      <th colspan=\"2\" halign=\"left\">two</th>\n",
       "    </tr>\n",
       "    <tr>\n",
       "      <th></th>\n",
       "      <th>first</th>\n",
       "      <th>second</th>\n",
       "      <th>first</th>\n",
       "      <th>second</th>\n",
       "    </tr>\n",
       "  </thead>\n",
       "  <tbody>\n",
       "    <tr>\n",
       "      <th>0</th>\n",
       "      <td> a</td>\n",
       "      <td> b</td>\n",
       "      <td> c</td>\n",
       "      <td> d</td>\n",
       "    </tr>\n",
       "    <tr>\n",
       "      <th>1</th>\n",
       "      <td> e</td>\n",
       "      <td> f</td>\n",
       "      <td> g</td>\n",
       "      <td> h</td>\n",
       "    </tr>\n",
       "    <tr>\n",
       "      <th>2</th>\n",
       "      <td> i</td>\n",
       "      <td> j</td>\n",
       "      <td> k</td>\n",
       "      <td> l</td>\n",
       "    </tr>\n",
       "    <tr>\n",
       "      <th>3</th>\n",
       "      <td> m</td>\n",
       "      <td> n</td>\n",
       "      <td> o</td>\n",
       "      <td> p</td>\n",
       "    </tr>\n",
       "  </tbody>\n",
       "</table>\n",
       "</div>"
      ],
      "text/plain": [
       "    one          two       \n",
       "  first second first second\n",
       "0     a      b     c      d\n",
       "1     e      f     g      h\n",
       "2     i      j     k      l\n",
       "3     m      n     o      p"
      ]
     },
     "execution_count": 3,
     "metadata": {},
     "output_type": "execute_result"
    }
   ],
   "source": [
    "dfmi = pd.DataFrame([list('abcd'),\n",
    "                     list('efgh'),\n",
    "                     list('ijkl'),\n",
    "                     list('mnop')],\n",
    "                    columns=pd.MultiIndex.from_product([['one','two'],\n",
    "                                                        ['first','second']]))\n",
    "dfmi['one']['second'] = 12\n",
    "dfmi"
   ]
  },
  {
   "cell_type": "code",
   "execution_count": 4,
   "metadata": {
    "collapsed": false
   },
   "outputs": [
    {
     "data": {
      "text/html": [
       "<div style=\"max-height:1000px;max-width:1500px;overflow:auto;\">\n",
       "<table border=\"1\" class=\"dataframe\">\n",
       "  <thead>\n",
       "    <tr>\n",
       "      <th></th>\n",
       "      <th colspan=\"2\" halign=\"left\">one</th>\n",
       "      <th colspan=\"2\" halign=\"left\">two</th>\n",
       "    </tr>\n",
       "    <tr>\n",
       "      <th></th>\n",
       "      <th>first</th>\n",
       "      <th>second</th>\n",
       "      <th>first</th>\n",
       "      <th>second</th>\n",
       "    </tr>\n",
       "  </thead>\n",
       "  <tbody>\n",
       "    <tr>\n",
       "      <th>0</th>\n",
       "      <td> a</td>\n",
       "      <td> 14</td>\n",
       "      <td> c</td>\n",
       "      <td> d</td>\n",
       "    </tr>\n",
       "    <tr>\n",
       "      <th>1</th>\n",
       "      <td> e</td>\n",
       "      <td> 14</td>\n",
       "      <td> g</td>\n",
       "      <td> h</td>\n",
       "    </tr>\n",
       "    <tr>\n",
       "      <th>2</th>\n",
       "      <td> i</td>\n",
       "      <td> 14</td>\n",
       "      <td> k</td>\n",
       "      <td> l</td>\n",
       "    </tr>\n",
       "    <tr>\n",
       "      <th>3</th>\n",
       "      <td> m</td>\n",
       "      <td> 14</td>\n",
       "      <td> o</td>\n",
       "      <td> p</td>\n",
       "    </tr>\n",
       "  </tbody>\n",
       "</table>\n",
       "</div>"
      ],
      "text/plain": [
       "    one          two       \n",
       "  first second first second\n",
       "0     a     14     c      d\n",
       "1     e     14     g      h\n",
       "2     i     14     k      l\n",
       "3     m     14     o      p"
      ]
     },
     "execution_count": 4,
     "metadata": {},
     "output_type": "execute_result"
    }
   ],
   "source": [
    "dfmi.ix[:,('one', 'second')] = 14\n",
    "dfmi"
   ]
  },
  {
   "cell_type": "code",
   "execution_count": null,
   "metadata": {
    "collapsed": true
   },
   "outputs": [],
   "source": [
    "# statment df4 = df doesn't create a copy of df, rather is a pointer to the same object"
   ]
  },
  {
   "cell_type": "code",
   "execution_count": 10,
   "metadata": {
    "collapsed": false
   },
   "outputs": [
    {
     "data": {
      "text/html": [
       "<div style=\"max-height:1000px;max-width:1500px;overflow:auto;\">\n",
       "<table border=\"1\" class=\"dataframe\">\n",
       "  <thead>\n",
       "    <tr style=\"text-align: right;\">\n",
       "      <th></th>\n",
       "      <th>A</th>\n",
       "      <th>B</th>\n",
       "      <th>C</th>\n",
       "      <th>D</th>\n",
       "    </tr>\n",
       "  </thead>\n",
       "  <tbody>\n",
       "    <tr>\n",
       "      <th>0</th>\n",
       "      <td> B</td>\n",
       "      <td>  1</td>\n",
       "      <td>  2</td>\n",
       "      <td>  3</td>\n",
       "    </tr>\n",
       "    <tr>\n",
       "      <th>1</th>\n",
       "      <td> B</td>\n",
       "      <td>  5</td>\n",
       "      <td>  6</td>\n",
       "      <td>  7</td>\n",
       "    </tr>\n",
       "    <tr>\n",
       "      <th>2</th>\n",
       "      <td> B</td>\n",
       "      <td>  9</td>\n",
       "      <td> 10</td>\n",
       "      <td> 11</td>\n",
       "    </tr>\n",
       "    <tr>\n",
       "      <th>3</th>\n",
       "      <td> B</td>\n",
       "      <td> 13</td>\n",
       "      <td> 14</td>\n",
       "      <td> 15</td>\n",
       "    </tr>\n",
       "    <tr>\n",
       "      <th>4</th>\n",
       "      <td> B</td>\n",
       "      <td> 17</td>\n",
       "      <td> 18</td>\n",
       "      <td> 19</td>\n",
       "    </tr>\n",
       "    <tr>\n",
       "      <th>5</th>\n",
       "      <td> B</td>\n",
       "      <td> 21</td>\n",
       "      <td> 22</td>\n",
       "      <td> 23</td>\n",
       "    </tr>\n",
       "    <tr>\n",
       "      <th>6</th>\n",
       "      <td> B</td>\n",
       "      <td> 25</td>\n",
       "      <td> 26</td>\n",
       "      <td> 27</td>\n",
       "    </tr>\n",
       "    <tr>\n",
       "      <th>7</th>\n",
       "      <td> B</td>\n",
       "      <td> 29</td>\n",
       "      <td> 30</td>\n",
       "      <td> 31</td>\n",
       "    </tr>\n",
       "    <tr>\n",
       "      <th>8</th>\n",
       "      <td> B</td>\n",
       "      <td> 33</td>\n",
       "      <td> 34</td>\n",
       "      <td> 35</td>\n",
       "    </tr>\n",
       "    <tr>\n",
       "      <th>9</th>\n",
       "      <td> B</td>\n",
       "      <td> 37</td>\n",
       "      <td> 38</td>\n",
       "      <td> 39</td>\n",
       "    </tr>\n",
       "  </tbody>\n",
       "</table>\n",
       "</div>"
      ],
      "text/plain": [
       "   A   B   C   D\n",
       "0  B   1   2   3\n",
       "1  B   5   6   7\n",
       "2  B   9  10  11\n",
       "3  B  13  14  15\n",
       "4  B  17  18  19\n",
       "5  B  21  22  23\n",
       "6  B  25  26  27\n",
       "7  B  29  30  31\n",
       "8  B  33  34  35\n",
       "9  B  37  38  39"
      ]
     },
     "execution_count": 10,
     "metadata": {},
     "output_type": "execute_result"
    }
   ],
   "source": [
    "df = pd.DataFrame(np.arange(40).reshape(10, 4), columns=list('ABCD'))\n",
    "df4 = df\n",
    "df['A'] = 'B'\n",
    "df4"
   ]
  },
  {
   "cell_type": "code",
   "execution_count": 11,
   "metadata": {
    "collapsed": false
   },
   "outputs": [
    {
     "data": {
      "text/html": [
       "<div style=\"max-height:1000px;max-width:1500px;overflow:auto;\">\n",
       "<table border=\"1\" class=\"dataframe\">\n",
       "  <thead>\n",
       "    <tr style=\"text-align: right;\">\n",
       "      <th></th>\n",
       "      <th>A</th>\n",
       "      <th>B</th>\n",
       "      <th>C</th>\n",
       "      <th>D</th>\n",
       "    </tr>\n",
       "  </thead>\n",
       "  <tbody>\n",
       "    <tr>\n",
       "      <th>0</th>\n",
       "      <td> B</td>\n",
       "      <td>  1</td>\n",
       "      <td>  2</td>\n",
       "      <td> -1</td>\n",
       "    </tr>\n",
       "    <tr>\n",
       "      <th>1</th>\n",
       "      <td> B</td>\n",
       "      <td>  5</td>\n",
       "      <td>  6</td>\n",
       "      <td> -1</td>\n",
       "    </tr>\n",
       "    <tr>\n",
       "      <th>2</th>\n",
       "      <td> B</td>\n",
       "      <td>  9</td>\n",
       "      <td> 10</td>\n",
       "      <td> -1</td>\n",
       "    </tr>\n",
       "    <tr>\n",
       "      <th>3</th>\n",
       "      <td> B</td>\n",
       "      <td> 13</td>\n",
       "      <td> 14</td>\n",
       "      <td> -1</td>\n",
       "    </tr>\n",
       "    <tr>\n",
       "      <th>4</th>\n",
       "      <td> B</td>\n",
       "      <td> 17</td>\n",
       "      <td> 18</td>\n",
       "      <td> -1</td>\n",
       "    </tr>\n",
       "    <tr>\n",
       "      <th>5</th>\n",
       "      <td> B</td>\n",
       "      <td> 21</td>\n",
       "      <td> 22</td>\n",
       "      <td> -1</td>\n",
       "    </tr>\n",
       "    <tr>\n",
       "      <th>6</th>\n",
       "      <td> B</td>\n",
       "      <td> 25</td>\n",
       "      <td> 26</td>\n",
       "      <td> -1</td>\n",
       "    </tr>\n",
       "    <tr>\n",
       "      <th>7</th>\n",
       "      <td> B</td>\n",
       "      <td> 29</td>\n",
       "      <td> 30</td>\n",
       "      <td> -1</td>\n",
       "    </tr>\n",
       "    <tr>\n",
       "      <th>8</th>\n",
       "      <td> B</td>\n",
       "      <td> 33</td>\n",
       "      <td> 34</td>\n",
       "      <td> -1</td>\n",
       "    </tr>\n",
       "    <tr>\n",
       "      <th>9</th>\n",
       "      <td> B</td>\n",
       "      <td> 37</td>\n",
       "      <td> 38</td>\n",
       "      <td> -1</td>\n",
       "    </tr>\n",
       "  </tbody>\n",
       "</table>\n",
       "</div>"
      ],
      "text/plain": [
       "   A   B   C   D\n",
       "0  B   1   2  -1\n",
       "1  B   5   6  -1\n",
       "2  B   9  10  -1\n",
       "3  B  13  14  -1\n",
       "4  B  17  18  -1\n",
       "5  B  21  22  -1\n",
       "6  B  25  26  -1\n",
       "7  B  29  30  -1\n",
       "8  B  33  34  -1\n",
       "9  B  37  38  -1"
      ]
     },
     "execution_count": 11,
     "metadata": {},
     "output_type": "execute_result"
    }
   ],
   "source": [
    "df4['D'] = '-1'\n",
    "df"
   ]
  },
  {
   "cell_type": "code",
   "execution_count": 9,
   "metadata": {
    "collapsed": false
   },
   "outputs": [
    {
     "name": "stderr",
     "output_type": "stream",
     "text": [
      "C:\\Python34\\lib\\site-packages\\pandas\\core\\indexing.py:121: SettingWithCopyWarning: \n",
      "A value is trying to be set on a copy of a slice from a DataFrame\n",
      "\n",
      "See the the caveats in the documentation: http://pandas.pydata.org/pandas-docs/stable/indexing.html#indexing-view-versus-copy\n",
      "  self._setitem_with_indexer(indexer, value)\n",
      "C:\\Python34\\lib\\site-packages\\IPython\\kernel\\__main__.py:3: SettingWithCopyWarning: \n",
      "A value is trying to be set on a copy of a slice from a DataFrame\n",
      "\n",
      "See the the caveats in the documentation: http://pandas.pydata.org/pandas-docs/stable/indexing.html#indexing-view-versus-copy\n",
      "  app.launch_new_instance()\n"
     ]
    },
    {
     "data": {
      "text/html": [
       "<div style=\"max-height:1000px;max-width:1500px;overflow:auto;\">\n",
       "<table border=\"1\" class=\"dataframe\">\n",
       "  <thead>\n",
       "    <tr style=\"text-align: right;\">\n",
       "      <th></th>\n",
       "      <th>A</th>\n",
       "      <th>B</th>\n",
       "      <th>C</th>\n",
       "      <th>D</th>\n",
       "    </tr>\n",
       "  </thead>\n",
       "  <tbody>\n",
       "    <tr>\n",
       "      <th>3</th>\n",
       "      <td> 12</td>\n",
       "      <td> 13</td>\n",
       "      <td>   14</td>\n",
       "      <td> 15</td>\n",
       "    </tr>\n",
       "    <tr>\n",
       "      <th>4</th>\n",
       "      <td> 16</td>\n",
       "      <td> 17</td>\n",
       "      <td> 1000</td>\n",
       "      <td> 19</td>\n",
       "    </tr>\n",
       "    <tr>\n",
       "      <th>5</th>\n",
       "      <td> 20</td>\n",
       "      <td> 21</td>\n",
       "      <td>   22</td>\n",
       "      <td> 23</td>\n",
       "    </tr>\n",
       "    <tr>\n",
       "      <th>6</th>\n",
       "      <td> 24</td>\n",
       "      <td> 25</td>\n",
       "      <td>   26</td>\n",
       "      <td> 27</td>\n",
       "    </tr>\n",
       "    <tr>\n",
       "      <th>7</th>\n",
       "      <td> 28</td>\n",
       "      <td> 29</td>\n",
       "      <td>   30</td>\n",
       "      <td> 31</td>\n",
       "    </tr>\n",
       "    <tr>\n",
       "      <th>8</th>\n",
       "      <td> 32</td>\n",
       "      <td> 33</td>\n",
       "      <td>   34</td>\n",
       "      <td> 35</td>\n",
       "    </tr>\n",
       "    <tr>\n",
       "      <th>9</th>\n",
       "      <td> 36</td>\n",
       "      <td> 37</td>\n",
       "      <td>   38</td>\n",
       "      <td> 39</td>\n",
       "    </tr>\n",
       "  </tbody>\n",
       "</table>\n",
       "</div>"
      ],
      "text/plain": [
       "    A   B     C   D\n",
       "3  12  13    14  15\n",
       "4  16  17  1000  19\n",
       "5  20  21    22  23\n",
       "6  24  25    26  27\n",
       "7  28  29    30  31\n",
       "8  32  33    34  35\n",
       "9  36  37    38  39"
      ]
     },
     "execution_count": 9,
     "metadata": {},
     "output_type": "execute_result"
    }
   ],
   "source": [
    "df = pd.DataFrame(np.arange(40).reshape(10, 4), columns=list('ABCD'))\n",
    "df2 = df[df['A']>10]\n",
    "df2.ix[df2['B']==17, 'C'] = 1000\n",
    "df2"
   ]
  },
  {
   "cell_type": "markdown",
   "metadata": {},
   "source": [
    "# Can create a copy of df and avoid the error message"
   ]
  },
  {
   "cell_type": "code",
   "execution_count": 7,
   "metadata": {
    "collapsed": true
   },
   "outputs": [],
   "source": [
    "df3 = df[df['A']>10].copy()\n",
    "df3.loc[df2['B']==17, 'C'] = 1000"
   ]
  },
  {
   "cell_type": "code",
   "execution_count": 8,
   "metadata": {
    "collapsed": false
   },
   "outputs": [
    {
     "data": {
      "text/html": [
       "<div style=\"max-height:1000px;max-width:1500px;overflow:auto;\">\n",
       "<table border=\"1\" class=\"dataframe\">\n",
       "  <thead>\n",
       "    <tr style=\"text-align: right;\">\n",
       "      <th></th>\n",
       "      <th>A</th>\n",
       "      <th>B</th>\n",
       "      <th>C</th>\n",
       "      <th>D</th>\n",
       "    </tr>\n",
       "  </thead>\n",
       "  <tbody>\n",
       "    <tr>\n",
       "      <th>3</th>\n",
       "      <td> 12</td>\n",
       "      <td> 13</td>\n",
       "      <td>   14</td>\n",
       "      <td> 15</td>\n",
       "    </tr>\n",
       "    <tr>\n",
       "      <th>4</th>\n",
       "      <td> 16</td>\n",
       "      <td> 17</td>\n",
       "      <td> 1000</td>\n",
       "      <td> 19</td>\n",
       "    </tr>\n",
       "    <tr>\n",
       "      <th>5</th>\n",
       "      <td> 20</td>\n",
       "      <td> 21</td>\n",
       "      <td>   22</td>\n",
       "      <td> 23</td>\n",
       "    </tr>\n",
       "    <tr>\n",
       "      <th>6</th>\n",
       "      <td> 24</td>\n",
       "      <td> 25</td>\n",
       "      <td>   26</td>\n",
       "      <td> 27</td>\n",
       "    </tr>\n",
       "    <tr>\n",
       "      <th>7</th>\n",
       "      <td> 28</td>\n",
       "      <td> 29</td>\n",
       "      <td>   30</td>\n",
       "      <td> 31</td>\n",
       "    </tr>\n",
       "    <tr>\n",
       "      <th>8</th>\n",
       "      <td> 32</td>\n",
       "      <td> 33</td>\n",
       "      <td>   34</td>\n",
       "      <td> 35</td>\n",
       "    </tr>\n",
       "    <tr>\n",
       "      <th>9</th>\n",
       "      <td> 36</td>\n",
       "      <td> 37</td>\n",
       "      <td>   38</td>\n",
       "      <td> 39</td>\n",
       "    </tr>\n",
       "  </tbody>\n",
       "</table>\n",
       "</div>"
      ],
      "text/plain": [
       "    A   B     C   D\n",
       "3  12  13    14  15\n",
       "4  16  17  1000  19\n",
       "5  20  21    22  23\n",
       "6  24  25    26  27\n",
       "7  28  29    30  31\n",
       "8  32  33    34  35\n",
       "9  36  37    38  39"
      ]
     },
     "execution_count": 8,
     "metadata": {},
     "output_type": "execute_result"
    }
   ],
   "source": [
    "df3"
   ]
  },
  {
   "cell_type": "code",
   "execution_count": null,
   "metadata": {
    "collapsed": true
   },
   "outputs": [],
   "source": []
  }
 ],
 "metadata": {
  "kernelspec": {
   "display_name": "Python 3",
   "language": "python",
   "name": "python3"
  },
  "language_info": {
   "codemirror_mode": {
    "name": "ipython",
    "version": 3
   },
   "file_extension": ".py",
   "mimetype": "text/x-python",
   "name": "python",
   "nbconvert_exporter": "python",
   "pygments_lexer": "ipython3",
   "version": "3.4.3"
  }
 },
 "nbformat": 4,
 "nbformat_minor": 0
}
